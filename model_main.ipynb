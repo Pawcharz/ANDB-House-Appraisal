{
 "cells": [
  {
   "cell_type": "code",
   "execution_count": 1,
   "metadata": {},
   "outputs": [],
   "source": [
    "import pandas as pd\n",
    "import numpy as np"
   ]
  },
  {
   "cell_type": "markdown",
   "metadata": {},
   "source": [
    "## Load training dataset"
   ]
  },
  {
   "cell_type": "code",
   "execution_count": 2,
   "metadata": {},
   "outputs": [],
   "source": [
    "dataset_path = './dataset_train.csv'\n",
    "dataset_train = pd.read_csv(dataset_path)"
   ]
  },
  {
   "cell_type": "code",
   "execution_count": 3,
   "metadata": {},
   "outputs": [
    {
     "data": {
      "text/html": [
       "<div>\n",
       "<style scoped>\n",
       "    .dataframe tbody tr th:only-of-type {\n",
       "        vertical-align: middle;\n",
       "    }\n",
       "\n",
       "    .dataframe tbody tr th {\n",
       "        vertical-align: top;\n",
       "    }\n",
       "\n",
       "    .dataframe thead th {\n",
       "        text-align: right;\n",
       "    }\n",
       "</style>\n",
       "<table border=\"1\" class=\"dataframe\">\n",
       "  <thead>\n",
       "    <tr style=\"text-align: right;\">\n",
       "      <th></th>\n",
       "      <th>brokered_by</th>\n",
       "      <th>price</th>\n",
       "      <th>bed</th>\n",
       "      <th>bath</th>\n",
       "      <th>acre_lot</th>\n",
       "      <th>street</th>\n",
       "      <th>zip_code</th>\n",
       "      <th>house_size</th>\n",
       "    </tr>\n",
       "  </thead>\n",
       "  <tbody>\n",
       "    <tr>\n",
       "      <th>count</th>\n",
       "      <td>522609.000000</td>\n",
       "      <td>5.236360e+05</td>\n",
       "      <td>523799.000000</td>\n",
       "      <td>523799.000000</td>\n",
       "      <td>449977.000000</td>\n",
       "      <td>5.220660e+05</td>\n",
       "      <td>523789.000000</td>\n",
       "      <td>489027.000000</td>\n",
       "    </tr>\n",
       "    <tr>\n",
       "      <th>mean</th>\n",
       "      <td>51875.055757</td>\n",
       "      <td>4.353965e+05</td>\n",
       "      <td>3.232519</td>\n",
       "      <td>2.436813</td>\n",
       "      <td>11.890710</td>\n",
       "      <td>9.267241e+05</td>\n",
       "      <td>41595.346178</td>\n",
       "      <td>1956.916771</td>\n",
       "    </tr>\n",
       "    <tr>\n",
       "      <th>std</th>\n",
       "      <td>29929.240099</td>\n",
       "      <td>7.155421e+05</td>\n",
       "      <td>1.145956</td>\n",
       "      <td>1.134782</td>\n",
       "      <td>766.747614</td>\n",
       "      <td>5.314372e+05</td>\n",
       "      <td>24504.754257</td>\n",
       "      <td>1818.780363</td>\n",
       "    </tr>\n",
       "    <tr>\n",
       "      <th>min</th>\n",
       "      <td>0.000000</td>\n",
       "      <td>0.000000e+00</td>\n",
       "      <td>1.000000</td>\n",
       "      <td>1.000000</td>\n",
       "      <td>0.000000</td>\n",
       "      <td>9.700000e+01</td>\n",
       "      <td>602.000000</td>\n",
       "      <td>100.000000</td>\n",
       "    </tr>\n",
       "    <tr>\n",
       "      <th>25%</th>\n",
       "      <td>23592.000000</td>\n",
       "      <td>2.050000e+05</td>\n",
       "      <td>3.000000</td>\n",
       "      <td>2.000000</td>\n",
       "      <td>0.140000</td>\n",
       "      <td>4.645375e+05</td>\n",
       "      <td>22407.000000</td>\n",
       "      <td>1288.000000</td>\n",
       "    </tr>\n",
       "    <tr>\n",
       "      <th>50%</th>\n",
       "      <td>52743.000000</td>\n",
       "      <td>3.150000e+05</td>\n",
       "      <td>3.000000</td>\n",
       "      <td>2.000000</td>\n",
       "      <td>0.220000</td>\n",
       "      <td>9.338935e+05</td>\n",
       "      <td>33647.000000</td>\n",
       "      <td>1719.000000</td>\n",
       "    </tr>\n",
       "    <tr>\n",
       "      <th>75%</th>\n",
       "      <td>78482.000000</td>\n",
       "      <td>4.750000e+05</td>\n",
       "      <td>4.000000</td>\n",
       "      <td>3.000000</td>\n",
       "      <td>0.450000</td>\n",
       "      <td>1.385839e+06</td>\n",
       "      <td>61032.000000</td>\n",
       "      <td>2332.000000</td>\n",
       "    </tr>\n",
       "    <tr>\n",
       "      <th>max</th>\n",
       "      <td>110138.000000</td>\n",
       "      <td>1.150000e+08</td>\n",
       "      <td>99.000000</td>\n",
       "      <td>113.000000</td>\n",
       "      <td>100000.000000</td>\n",
       "      <td>2.001125e+06</td>\n",
       "      <td>99901.000000</td>\n",
       "      <td>800900.000000</td>\n",
       "    </tr>\n",
       "  </tbody>\n",
       "</table>\n",
       "</div>"
      ],
      "text/plain": [
       "         brokered_by         price            bed           bath  \\\n",
       "count  522609.000000  5.236360e+05  523799.000000  523799.000000   \n",
       "mean    51875.055757  4.353965e+05       3.232519       2.436813   \n",
       "std     29929.240099  7.155421e+05       1.145956       1.134782   \n",
       "min         0.000000  0.000000e+00       1.000000       1.000000   \n",
       "25%     23592.000000  2.050000e+05       3.000000       2.000000   \n",
       "50%     52743.000000  3.150000e+05       3.000000       2.000000   \n",
       "75%     78482.000000  4.750000e+05       4.000000       3.000000   \n",
       "max    110138.000000  1.150000e+08      99.000000     113.000000   \n",
       "\n",
       "            acre_lot        street       zip_code     house_size  \n",
       "count  449977.000000  5.220660e+05  523789.000000  489027.000000  \n",
       "mean       11.890710  9.267241e+05   41595.346178    1956.916771  \n",
       "std       766.747614  5.314372e+05   24504.754257    1818.780363  \n",
       "min         0.000000  9.700000e+01     602.000000     100.000000  \n",
       "25%         0.140000  4.645375e+05   22407.000000    1288.000000  \n",
       "50%         0.220000  9.338935e+05   33647.000000    1719.000000  \n",
       "75%         0.450000  1.385839e+06   61032.000000    2332.000000  \n",
       "max    100000.000000  2.001125e+06   99901.000000  800900.000000  "
      ]
     },
     "execution_count": 3,
     "metadata": {},
     "output_type": "execute_result"
    }
   ],
   "source": [
    "dataset_train.describe()"
   ]
  },
  {
   "cell_type": "code",
   "execution_count": 4,
   "metadata": {},
   "outputs": [],
   "source": [
    "dataset_path = './dataset_val.csv'\n",
    "dataset_val = pd.read_csv(dataset_path)"
   ]
  },
  {
   "cell_type": "code",
   "execution_count": 5,
   "metadata": {},
   "outputs": [],
   "source": [
    "dataset_train = dataset_train[dataset_train[\"status\"] == \"sold\"]\n",
    "dataset_val = dataset_val[dataset_val[\"status\"] == \"sold\"]"
   ]
  },
  {
   "cell_type": "code",
   "execution_count": 6,
   "metadata": {},
   "outputs": [],
   "source": [
    "input_columns = ['bed', 'bath', 'house_size']\n",
    "output_columns = ['price']\n",
    "\n",
    "all_columns = input_columns + output_columns"
   ]
  },
  {
   "cell_type": "code",
   "execution_count": 7,
   "metadata": {},
   "outputs": [],
   "source": [
    "cleaned_train = dataset_train[all_columns].dropna()\n",
    "training_data = np.array(cleaned_train, dtype=np.float32)\n",
    "x = cleaned_train[input_columns]\n",
    "x = np.array(x, dtype=np.float32)\n",
    "y = cleaned_train[output_columns]\n",
    "y = np.array(y, dtype=np.float32)\n",
    "\n",
    "cleaned_val = dataset_train[all_columns].dropna()\n",
    "x_val = cleaned_val[input_columns]\n",
    "x_val = np.array(x_val, dtype=np.float32)\n",
    "y_val = cleaned_val[output_columns]\n",
    "y_val = np.array(y_val, dtype=np.float32)"
   ]
  },
  {
   "cell_type": "markdown",
   "metadata": {},
   "source": [
    "## Creating model"
   ]
  },
  {
   "cell_type": "code",
   "execution_count": 8,
   "metadata": {},
   "outputs": [],
   "source": [
    "import tensorflow as tf\n",
    "from tensorflow import keras\n",
    "from keras import layers"
   ]
  },
  {
   "cell_type": "code",
   "execution_count": 9,
   "metadata": {},
   "outputs": [],
   "source": [
    "model = keras.Sequential( \n",
    "  [\n",
    "    layers.Input(3),\n",
    "    layers.Dense(128, activation=\"relu\"),\n",
    "    layers.Dense(64, activation=\"relu\"),\n",
    "    layers.Dense(32, activation=\"relu\"),\n",
    "    layers.Dense(1),\n",
    "  ] \n",
    ") "
   ]
  },
  {
   "cell_type": "code",
   "execution_count": 10,
   "metadata": {},
   "outputs": [],
   "source": [
    "optimizer = keras.optimizers.Adam(learning_rate=0.001)\n",
    "model.compile(optimizer=optimizer, loss=\"mse\", metrics=[\"mae\"])"
   ]
  },
  {
   "cell_type": "code",
   "execution_count": 11,
   "metadata": {},
   "outputs": [
    {
     "name": "stdout",
     "output_type": "stream",
     "text": [
      "Epoch 1/3\n",
      "2999/2999 [==============================] - 27s 9ms/step - loss: 311608803328.0000 - mae: 175496.1406 - val_loss: 291679764480.0000 - val_mae: 163220.9688\n",
      "Epoch 2/3\n",
      "2999/2999 [==============================] - 26s 9ms/step - loss: 304923475968.0000 - mae: 166358.4844 - val_loss: 289108393984.0000 - val_mae: 162990.5781\n",
      "Epoch 3/3\n",
      "2999/2999 [==============================] - 26s 9ms/step - loss: 288775667712.0000 - mae: 175373.9219 - val_loss: 281748799488.0000 - val_mae: 167999.4844\n"
     ]
    }
   ],
   "source": [
    "early_stopping = keras.callbacks.EarlyStopping(monitor=\"val_loss\", patience=10, restore_best_weights=True)\n",
    "\n",
    "history = model.fit(\n",
    "  x, y,\n",
    "  validation_data=(x_val, y_val),\n",
    "  epochs=3,\n",
    "  batch_size=128,\n",
    ")"
   ]
  },
  {
   "cell_type": "code",
   "execution_count": 14,
   "metadata": {},
   "outputs": [],
   "source": [
    "model.save('model.h5')"
   ]
  },
  {
   "cell_type": "code",
   "execution_count": 13,
   "metadata": {},
   "outputs": [],
   "source": [
    "model2 = keras.models.load_model('model.h5')"
   ]
  }
 ],
 "metadata": {
  "kernelspec": {
   "display_name": "tf_gpu_2",
   "language": "python",
   "name": "python3"
  },
  "language_info": {
   "codemirror_mode": {
    "name": "ipython",
    "version": 3
   },
   "file_extension": ".py",
   "mimetype": "text/x-python",
   "name": "python",
   "nbconvert_exporter": "python",
   "pygments_lexer": "ipython3",
   "version": "3.10.13"
  }
 },
 "nbformat": 4,
 "nbformat_minor": 2
}
