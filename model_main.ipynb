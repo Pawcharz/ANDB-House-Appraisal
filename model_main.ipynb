{
 "cells": [
  {
   "cell_type": "code",
   "execution_count": 1,
   "metadata": {},
   "outputs": [],
   "source": [
    "import pandas as pd"
   ]
  },
  {
   "cell_type": "code",
   "execution_count": 4,
   "metadata": {},
   "outputs": [],
   "source": [
    "dataset_path = './dataset.csv'\n",
    "dataset = pd.read_csv(dataset_path)"
   ]
  },
  {
   "cell_type": "code",
   "execution_count": null,
   "metadata": {},
   "outputs": [],
   "source": [
    "from sklearn.model_selection import train_test_split\n",
    "\n",
    "TEST_PERC = 0.2\n",
    "VAL_PERC = 0.1\n",
    "\n",
    "#split the data into train and test set\n",
    "train, test = train_test_split(dataset, test_size=TEST_PERC, random_state=0)\n",
    "test, val = train_test_split(test, test_size=VAL_PERC / (VAL_PERC + TEST_PERC), random_state=0)\n",
    "\n",
    "#save the data\n",
    "train.to_csv('dataset_train.csv',index=False)\n",
    "val.to_csv('dataset_val.csv',index=False)\n",
    "test.to_csv('dataset_test.csv',index=False)"
   ]
  }
 ],
 "metadata": {
  "kernelspec": {
   "display_name": "env_torch",
   "language": "python",
   "name": "python3"
  },
  "language_info": {
   "codemirror_mode": {
    "name": "ipython",
    "version": 3
   },
   "file_extension": ".py",
   "mimetype": "text/x-python",
   "name": "python",
   "nbconvert_exporter": "python",
   "pygments_lexer": "ipython3",
   "version": "3.10.13"
  }
 },
 "nbformat": 4,
 "nbformat_minor": 2
}
